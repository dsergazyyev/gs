{
 "cells": [
  {
   "cell_type": "markdown",
   "id": "e79ba7ce-0c38-47a7-bf7d-41383c99c87a",
   "metadata": {},
   "source": [
    "## как соединить google sheets и python"
   ]
  },
  {
   "cell_type": "markdown",
   "id": "a5c8879f-9d8c-43df-a142-d74d4fb4cdc4",
   "metadata": {},
   "source": [
    "0. предыстория\n",
    "1. создать api\n",
    "2. credentials\n",
    "3. скрипт py\n",
    "4. базовые команды"
   ]
  },
  {
   "cell_type": "markdown",
   "id": "0e31b0e1-9750-4f8a-aa0b-3ea149ffec65",
   "metadata": {
    "tags": []
   },
   "source": [
    "### предыстория\n",
    "\n",
    "актуальная тема для аналитиков, которые хотят автоматизировать некоторую работу (хранение, редактирование, обработка данных) в google sheets с помощью python"
   ]
  },
  {
   "cell_type": "markdown",
   "id": "0a4c731d-922c-4289-b686-c4d6a3b90766",
   "metadata": {},
   "source": [
    "для примера я создал документ **examplepy** "
   ]
  },
  {
   "cell_type": "markdown",
   "id": "4a4f936b-19d4-48ab-b6c5-37502b7befb8",
   "metadata": {
    "tags": []
   },
   "source": [
    "<div style=\"text-align: center;\">\n",
    "    <img src=\"https://raw.githubusercontent.com/dsergazyyev/gs/master/screens/gs0.jpg\" alt=\"examplepy\" width=\"600\">\n",
    "</div>"
   ]
  },
  {
   "cell_type": "markdown",
   "id": "8d61e944-771e-4837-b5ae-46896fb3ffde",
   "metadata": {
    "tags": []
   },
   "source": [
    "### создать api"
   ]
  },
  {
   "cell_type": "markdown",
   "id": "35c23413-7196-42a9-a9cb-0cedb2b13f3a",
   "metadata": {},
   "source": [
    "наш путь начинается со ссылки:\n",
    "https://console.cloud.google.com/"
   ]
  },
  {
   "cell_type": "markdown",
   "id": "16339954-3152-45d1-8d4f-dc9da02db7a0",
   "metadata": {},
   "source": [
    "нажимаем на место, выделенное желтым, скорее всего у вас будет написано что-то типа \"MyFirstProject\", если до этого вы ничего не создавали <br>\n",
    "но так как я уже создавал проекты ранее, то у меня стоит другое название (поэтому это неважно)"
   ]
  },
  {
   "cell_type": "markdown",
   "id": "c50c267e-8c70-4183-9352-c40a06cac4d5",
   "metadata": {
    "tags": []
   },
   "source": [
    "<div style=\"text-align: center;\">\n",
    "    <img src=\"https://raw.githubusercontent.com/dsergazyyev/gs/master/screens/gs1.jpg\" alt=\"examplepy\" width=\"600\">\n",
    "</div>"
   ]
  },
  {
   "cell_type": "markdown",
   "id": "a08d9410-bed4-4d04-91c0-96bb7fceef65",
   "metadata": {},
   "source": [
    "если же у вас все же были проекты до этого и забыли, что нужно делать дальше, то просто создаем новый проект "
   ]
  },
  {
   "cell_type": "markdown",
   "id": "020503ad-cbab-4023-989f-965ff49b4694",
   "metadata": {},
   "source": [
    "<div style=\"text-align: center;\">\n",
    "    <img src=\"https://raw.githubusercontent.com/dsergazyyev/gs/master/screens/gs2.jpg\" alt=\"examplepy\" width=\"600\">\n",
    "</div>"
   ]
  },
  {
   "cell_type": "markdown",
   "id": "1a5b51d1-b698-47c9-8c35-f4d6ba3bc8cd",
   "metadata": {},
   "source": [
    "у вас появится окно, где надо будет вбить имя для проекта, в моем случае это **examplepy**"
   ]
  },
  {
   "cell_type": "markdown",
   "id": "b048f1c4-a7cf-4638-a25b-314d362c30f8",
   "metadata": {
    "tags": []
   },
   "source": [
    "<div style=\"text-align: center;\">\n",
    "    <img src=\"https://raw.githubusercontent.com/dsergazyyev/gs/master/screens/gs3.jpg\" alt=\"examplepy\" width=\"400\" height=\"300\">\n",
    "</div>"
   ]
  },
  {
   "cell_type": "markdown",
   "id": "69ef803b-d7b2-4624-812e-e628e8e64567",
   "metadata": {
    "tags": []
   },
   "source": [
    "затем вбиваем в поиск **google drive api**, переходим к нему"
   ]
  },
  {
   "cell_type": "markdown",
   "id": "873b05f1-4e74-4c27-a0ab-43621dee8b78",
   "metadata": {
    "tags": []
   },
   "source": [
    "<div style=\"text-align: center;\">\n",
    "    <img src=\"https://raw.githubusercontent.com/dsergazyyev/gs/master/screens/gs4.jpg\" alt=\"examplepy\" width=\"600\">\n",
    "</div>"
   ]
  },
  {
   "cell_type": "markdown",
   "id": "3fce32e3-933f-4e95-8d3a-bee797c7610f",
   "metadata": {
    "tags": []
   },
   "source": [
    "включаем api"
   ]
  },
  {
   "cell_type": "markdown",
   "id": "f656ffcd-43d2-49a9-9541-992a73a9e14e",
   "metadata": {},
   "source": [
    "<div style=\"text-align: center;\">\n",
    "    <img src=\"https://raw.githubusercontent.com/dsergazyyev/gs/master/screens/gs5.jpg\" alt=\"examplepy\" width=\"400\" height=\"300\">\n",
    "</div>"
   ]
  },
  {
   "cell_type": "markdown",
   "id": "9d4ec10c-1858-453b-ab5d-112769431656",
   "metadata": {
    "tags": []
   },
   "source": [
    "проделываем те же действия, чтобы включить **google sheets api** (вбиваете в поиск, переходите, кликаете enable)"
   ]
  },
  {
   "cell_type": "markdown",
   "id": "d2d3941d-47f7-4acc-9feb-362cac23ce50",
   "metadata": {
    "tags": []
   },
   "source": [
    "### credentials"
   ]
  },
  {
   "cell_type": "markdown",
   "id": "189986a7-c083-4535-8a40-f1ec0dc25ab0",
   "metadata": {},
   "source": [
    "установить key\n",
    "скачать json file\n",
    "переименовать (для удобства)\n",
    "перенести файл (если надо)"
   ]
  },
  {
   "cell_type": "markdown",
   "id": "e4496dcd-3e53-49ea-9c63-212c5646d090",
   "metadata": {},
   "source": [
    "теперь нам нужно установить **credentials**, в менюшке слева выбираем **credentials**, а затем **create credentials**"
   ]
  },
  {
   "cell_type": "markdown",
   "id": "172ecb2f-a299-4b24-b3ab-61b97542f8ca",
   "metadata": {},
   "source": [
    "<div style=\"text-align: center;\">\n",
    "    <img src=\"https://raw.githubusercontent.com/dsergazyyev/gs/master/screens/gs6.jpg\" alt=\"examplepy\" width=\"600\">\n",
    "</div>"
   ]
  },
  {
   "cell_type": "markdown",
   "id": "e22959d9-434b-4fb3-ad12-b98e5777e6f1",
   "metadata": {},
   "source": [
    "выйдет новое окно, где нужно заполнить имя для юзера (через которого все действия и будут выполняться) <br>\n",
    "id аккаунта обычно создается автоматически (в соответствии с названием)"
   ]
  },
  {
   "cell_type": "markdown",
   "id": "c0c970e7-e21b-454a-9294-aed3b3b7bb3a",
   "metadata": {},
   "source": [
    "<div style=\"text-align: center;\">\n",
    "    <img src=\"https://raw.githubusercontent.com/dsergazyyev/gs/master/screens/gs7.jpg\" alt=\"examplepy\" width=\"400\" height=\"300\">\n",
    "</div>"
   ]
  },
  {
   "cell_type": "markdown",
   "id": "24f61245-d75d-4b67-a54c-145e6162fe85",
   "metadata": {},
   "source": [
    "выбираем роль редактора и идем дальше"
   ]
  },
  {
   "cell_type": "markdown",
   "id": "38a234fc-5715-4771-bb1e-c8cf854a1cfe",
   "metadata": {
    "tags": []
   },
   "source": [
    "<div style=\"text-align: center;\">\n",
    "    <img src=\"https://raw.githubusercontent.com/dsergazyyev/gs/master/screens/gs8.jpg\" alt=\"examplepy\" width=\"400\" height=\"300\">\n",
    "</div>"
   ]
  },
  {
   "cell_type": "markdown",
   "id": "fdb36860-b371-45c3-b0e1-bd8e2e7d9469",
   "metadata": {
    "tags": []
   },
   "source": [
    "видим слово **optional**, значит не паримся и жмем **done**"
   ]
  },
  {
   "cell_type": "markdown",
   "id": "10732008-7a4c-410d-b3c8-651a434dc736",
   "metadata": {
    "tags": []
   },
   "source": [
    "<div style=\"text-align: center;\">\n",
    "    <img src=\"https://raw.githubusercontent.com/dsergazyyev/gs/master/screens/gs9.jpg\" alt=\"examplepy\" width=\"400\" height=\"300\">\n",
    "</div>"
   ]
  },
  {
   "cell_type": "markdown",
   "id": "638cda9f-83d7-4ef7-9d83-0ab5d4831538",
   "metadata": {},
   "source": [
    "затем переходим на наш аккаунт"
   ]
  },
  {
   "cell_type": "markdown",
   "id": "af7d1293-0ed2-423c-a682-992de3af611c",
   "metadata": {},
   "source": [
    "<div style=\"text-align: center;\">\n",
    "    <img src=\"https://raw.githubusercontent.com/dsergazyyev/gs/master/screens/gs10.jpg\" alt=\"examplepy\" width=\"600\">\n",
    "</div>"
   ]
  },
  {
   "cell_type": "markdown",
   "id": "145f6252-5598-470c-81c1-72c7e1100455",
   "metadata": {},
   "source": [
    "выбираем **keys** и добавляем ключ"
   ]
  },
  {
   "cell_type": "markdown",
   "id": "f087d3f6-1a93-480a-b950-39fe102bab67",
   "metadata": {
    "tags": []
   },
   "source": [
    "<div style=\"text-align: center;\">\n",
    "    <img src=\"https://raw.githubusercontent.com/dsergazyyev/gs/master/screens/gs11.jpg\" alt=\"examplepy\" width=\"400\" height=\"300\">\n",
    "</div>"
   ]
  },
  {
   "cell_type": "markdown",
   "id": "e452a4e0-6438-49e8-afb9-63f9dd1838b7",
   "metadata": {},
   "source": [
    "выбираем формат **json** и создаем ключ, файл должен скачаться автоматически"
   ]
  },
  {
   "cell_type": "markdown",
   "id": "a4dcded3-4bc6-4b3e-8b09-019a364b3d8a",
   "metadata": {},
   "source": [
    "<div style=\"text-align: center;\">\n",
    "    <img src=\"https://raw.githubusercontent.com/dsergazyyev/gs/master/screens/gs12.jpg\" alt=\"examplepy\" width=\"400\" height=\"300\">\n",
    "</div>"
   ]
  },
  {
   "cell_type": "markdown",
   "id": "5e640e89-efa3-4d77-83d1-e60e80134ad1",
   "metadata": {},
   "source": [
    "мой скачанный файл выглядит таким образом"
   ]
  },
  {
   "cell_type": "markdown",
   "id": "81355e0c-776d-4ab6-93fb-d98421b479e4",
   "metadata": {
    "tags": []
   },
   "source": [
    "<div style=\"text-align: center;\">\n",
    "    <img src=\"https://raw.githubusercontent.com/dsergazyyev/gs/master/screens/gs13.jpg\" alt=\"examplepy\" width=\"600\">\n",
    "</div>"
   ]
  },
  {
   "cell_type": "markdown",
   "id": "c9a69eb0-f79d-4f04-94cf-697a0506e9e8",
   "metadata": {},
   "source": [
    "для удобства переименовал его и закинул в папку со скриптом"
   ]
  },
  {
   "cell_type": "markdown",
   "id": "d1a406f9-44fe-40e4-8f85-26d6c881675a",
   "metadata": {},
   "source": [
    "<div style=\"text-align: center;\">\n",
    "    <img src=\"https://raw.githubusercontent.com/dsergazyyev/gs/master/screens/gs14.jpg\" alt=\"examplepy\" width=\"400\" height=\"300\">\n",
    "</div>"
   ]
  },
  {
   "cell_type": "markdown",
   "id": "21fc5e36-ea64-48b3-a76e-f5362742e347",
   "metadata": {},
   "source": [
    "откроем файл (через блокнот или другим способом) и скопируем **mail**"
   ]
  },
  {
   "cell_type": "markdown",
   "id": "9cbc8354-0e8d-4187-a26a-d8af56d1ede9",
   "metadata": {},
   "source": [
    "<div style=\"text-align: center;\">\n",
    "    <img src=\"https://raw.githubusercontent.com/dsergazyyev/gs/master/screens/gs15.jpg\" alt=\"examplepy\" width=\"600\">\n",
    "</div>"
   ]
  },
  {
   "cell_type": "markdown",
   "id": "39dcf1d1-450c-47a5-995c-67e0343b2c17",
   "metadata": {},
   "source": [
    "затем даем доступ редактора на google sheets (в моем случае это examplepy) к этому адресу <br>\n",
    "наверное вы знаете как это <a href=\"https://www.youtube.com/watch?v=Z30tOaVsTfY\">сделать</a>"
   ]
  },
  {
   "cell_type": "markdown",
   "id": "2352d2c0-c865-4f6d-a7cd-7b91400dbdbe",
   "metadata": {},
   "source": [
    "<div style=\"text-align: center;\">\n",
    "    <img src=\"https://raw.githubusercontent.com/dsergazyyev/gs/master/screens/gs16.jpg\" alt=\"examplepy\" width=\"400\" height=\"300\">\n",
    "</div>"
   ]
  },
  {
   "cell_type": "markdown",
   "id": "a472fac9-1871-44b5-8c2b-1ec236a87338",
   "metadata": {},
   "source": [
    "наконец-то мы закончили со всеми настройками и можно переходить к скрипту !"
   ]
  },
  {
   "cell_type": "markdown",
   "id": "0fa0cd6b-51d8-42d1-9187-31aed3f023ab",
   "metadata": {
    "tags": []
   },
   "source": [
    "### скрипт py"
   ]
  },
  {
   "cell_type": "markdown",
   "id": "617ed8ce-deaf-4f74-a5cd-8fc2c2befd52",
   "metadata": {
    "tags": []
   },
   "source": [
    "для начала нам нужные следующие библиотеки: **gspread**, **google-auth**"
   ]
  },
  {
   "cell_type": "code",
   "execution_count": 1,
   "id": "6d0feff0-ad4f-4eea-958d-ad74f5e87f6e",
   "metadata": {
    "tags": []
   },
   "outputs": [],
   "source": [
    "import gspread\n",
    "from google.auth.credentials import Credentials\n",
    "from google.oauth2 import service_account"
   ]
  },
  {
   "cell_type": "markdown",
   "id": "e1a36253-c4c9-47c6-8365-11aab5dba98f",
   "metadata": {},
   "source": [
    "затем авторизуемся, используя наш секретный файл <br>\n",
    "так как я использую jupyter lab, то полный путь до файла не указываю (так как скрипт и секретный файл находятся в одной папке) <br>\n",
    "если вы используете другое приложение, то прописываете полный путь до файла"
   ]
  },
  {
   "cell_type": "code",
   "execution_count": 2,
   "id": "9f4b10be-2298-4c07-a5bb-71e65cbd9000",
   "metadata": {
    "tags": []
   },
   "outputs": [],
   "source": [
    "client_secret = 'secret.json'\n",
    "\n",
    "scope = ['https://www.googleapis.com/auth/spreadsheets', 'https://www.googleapis.com/auth/drive.file', 'https://www.googleapis.com/auth/drive']\n",
    "\n",
    "creds = service_account.Credentials.from_service_account_file(client_secret, scopes = scope)\n",
    "\n",
    "client = gspread.authorize(creds)"
   ]
  },
  {
   "cell_type": "markdown",
   "id": "97777289-13f8-47db-b60f-c29490d9b47d",
   "metadata": {},
   "source": [
    "далее открываем наш google sheets examplepy, первую страницу и печатаем то, что находится на первой строке"
   ]
  },
  {
   "cell_type": "code",
   "execution_count": 3,
   "id": "37302530-27e1-4bf2-a980-ec81c15e6b41",
   "metadata": {
    "tags": []
   },
   "outputs": [
    {
     "name": "stdout",
     "output_type": "stream",
     "text": [
      "['hi', 'and', 'welcome']\n"
     ]
    }
   ],
   "source": [
    "examplepy = client.open('examplepy')\n",
    "\n",
    "examplepy_sheet1 = examplepy.sheet1\n",
    "\n",
    "print(examplepy_sheet1.row_values(1))"
   ]
  },
  {
   "cell_type": "markdown",
   "id": "4bd39f3b-7a06-4b57-a7fb-7e6318bbb168",
   "metadata": {},
   "source": [
    "если никаких проблем не возникло и все идет по плану, то конгратс ! <br>\n",
    "есть контакт !"
   ]
  },
  {
   "cell_type": "markdown",
   "id": "18462427-fb02-47e2-a034-4ffe98bc0466",
   "metadata": {},
   "source": [
    "### базовые команды"
   ]
  },
  {
   "cell_type": "markdown",
   "id": "5e419409-11e5-480a-a56f-197bb56e3c73",
   "metadata": {},
   "source": [
    "обращение к определенной ячейке"
   ]
  },
  {
   "cell_type": "code",
   "execution_count": 4,
   "id": "e6f73955-1786-46de-adf4-4960911bd0bb",
   "metadata": {
    "tags": []
   },
   "outputs": [
    {
     "name": "stdout",
     "output_type": "stream",
     "text": [
      "welcome\n"
     ]
    }
   ],
   "source": [
    "first = examplepy_sheet1.cell(1,3) # cell(строка, колонна)\n",
    "\n",
    "print(first.value)"
   ]
  },
  {
   "cell_type": "markdown",
   "id": "a7944a38-83e0-4abb-a06a-c5667feddfe1",
   "metadata": {},
   "source": [
    "добавил некоторые значения во вторую колонну в показательных целях"
   ]
  },
  {
   "cell_type": "markdown",
   "id": "4c195ec4-a3d7-4ccd-89dd-8c21d110348e",
   "metadata": {
    "tags": []
   },
   "source": [
    "<div style=\"text-align: center;\">\n",
    "    <img src=\"https://raw.githubusercontent.com/dsergazyyev/gs/master/screens/gs17.jpg\" alt=\"examplepy\" width=\"400\" height=\"300\">\n",
    "</div>"
   ]
  },
  {
   "cell_type": "markdown",
   "id": "90f58abc-f8ec-4b38-ba8d-d7d1053ee1c8",
   "metadata": {},
   "source": [
    "вытаскиваем все значения со второй колонки"
   ]
  },
  {
   "cell_type": "code",
   "execution_count": 5,
   "id": "59446864-e018-46b9-a088-171a4b11dff2",
   "metadata": {
    "tags": []
   },
   "outputs": [
    {
     "name": "stdout",
     "output_type": "stream",
     "text": [
      "['and', 'or', 'xor', 'nor']\n"
     ]
    }
   ],
   "source": [
    "print(examplepy_sheet1.col_values(2)) #col_values(колонна)"
   ]
  },
  {
   "cell_type": "markdown",
   "id": "e0bc4074-3592-4ae1-a433-ce4743b0ca27",
   "metadata": {},
   "source": [
    "вставим новую строку со следующими значениями"
   ]
  },
  {
   "cell_type": "code",
   "execution_count": 6,
   "id": "fda66edb-93e4-458a-ba4e-a3dd9094cf91",
   "metadata": {
    "tags": []
   },
   "outputs": [
    {
     "data": {
      "text/plain": [
       "{'spreadsheetId': '173YtaJ1rhUSsbIZ6IH5g3Xq30ch_8SxyCDehRXfb_Jo',\n",
       " 'updates': {'spreadsheetId': '173YtaJ1rhUSsbIZ6IH5g3Xq30ch_8SxyCDehRXfb_Jo',\n",
       "  'updatedRange': \"'Лист1'!A5:C5\",\n",
       "  'updatedRows': 1,\n",
       "  'updatedColumns': 3,\n",
       "  'updatedCells': 3}}"
      ]
     },
     "execution_count": 6,
     "metadata": {},
     "output_type": "execute_result"
    }
   ],
   "source": [
    "examplepy_sheet1.insert_row(['apes', 'together', 'strong'], 5)"
   ]
  },
  {
   "cell_type": "markdown",
   "id": "8e5f90e5-6840-4725-a5d7-a5c61f82085b",
   "metadata": {},
   "source": [
    "<div style=\"text-align: center;\">\n",
    "    <img src=\"https://raw.githubusercontent.com/dsergazyyev/gs/master/screens/gs18.jpg\" alt=\"examplepy\" width=\"400\" height=\"300\">\n",
    "</div>"
   ]
  },
  {
   "cell_type": "markdown",
   "id": "d0986843-dd7d-4e35-a2c8-aae8b61b39b7",
   "metadata": {},
   "source": [
    "поменяем значение ячейки"
   ]
  },
  {
   "cell_type": "code",
   "execution_count": 7,
   "id": "1daf8280-9547-4377-8efa-85025f799c1d",
   "metadata": {
    "tags": []
   },
   "outputs": [
    {
     "name": "stdout",
     "output_type": "stream",
     "text": [
      "['hi', 'and', 'bye']\n"
     ]
    }
   ],
   "source": [
    "examplepy_sheet1.update_cell(1, 3, 'bye') #update_cell(строка, колонна, значение)\n",
    "\n",
    "print(examplepy_sheet1.row_values(1))"
   ]
  },
  {
   "cell_type": "markdown",
   "id": "a95e4f3f-bd01-41db-a2dc-0f0f5160d9d2",
   "metadata": {},
   "source": [
    "как мы видим, значение ячейки поменялось, а все остальное вам поможет узнать **google** <br>\n",
    "спасибо, что прочитали инструкцию, надеюсь, это было полезно <br>\n",
    "bye !"
   ]
  }
 ],
 "metadata": {
  "kernelspec": {
   "display_name": "Python 3 (ipykernel)",
   "language": "python",
   "name": "python3"
  },
  "language_info": {
   "codemirror_mode": {
    "name": "ipython",
    "version": 3
   },
   "file_extension": ".py",
   "mimetype": "text/x-python",
   "name": "python",
   "nbconvert_exporter": "python",
   "pygments_lexer": "ipython3",
   "version": "3.11.5"
  }
 },
 "nbformat": 4,
 "nbformat_minor": 5
}
